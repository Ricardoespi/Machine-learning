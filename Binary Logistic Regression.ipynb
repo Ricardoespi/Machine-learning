{
 "cells": [
  {
   "cell_type": "code",
   "execution_count": 155,
   "id": "49902998",
   "metadata": {},
   "outputs": [],
   "source": [
    "import numpy as np \n",
    "import pandas as pd\n",
    "import matplotlib.pyplot as plt\n",
    "import math, copy"
   ]
  },
  {
   "cell_type": "markdown",
   "id": "3cd5fd20",
   "metadata": {},
   "source": [
    "# Importing data with Pandas, and transforming it into numpy arrays.\n",
    "\n",
    "1. First you import the data with pandas, and show it.\n",
    "\n",
    "2. Then you assign the data that is going to y_train, and x_train with pd.get_dummies function and the name of the columns.\n",
    "\n",
    "3. After that you just replace y_train and x_train data, with numerical values with .values property.\n",
    "\n",
    "4. I wanted to delete the fifth column of x_train, so I used np.delete()"
   ]
  },
  {
   "cell_type": "code",
   "execution_count": 156,
   "id": "858d879e",
   "metadata": {},
   "outputs": [
    {
     "name": "stdout",
     "output_type": "stream",
     "text": [
      "(891,)\n",
      "(891, 6)\n",
      "0      0\n",
      "1      1\n",
      "2      1\n",
      "3      1\n",
      "4      0\n",
      "      ..\n",
      "886    0\n",
      "887    1\n",
      "888    0\n",
      "889    1\n",
      "890    0\n",
      "Name: Survived, Length: 891, dtype: int64 \n",
      "      Pclass   Age  SibSp  Parch  Sex_female  Sex_male\n",
      "0         3  22.0      1      0           0         1\n",
      "1         1  38.0      1      0           1         0\n",
      "2         3  26.0      0      0           1         0\n",
      "3         1  35.0      1      0           1         0\n",
      "4         3  35.0      0      0           0         1\n",
      "..      ...   ...    ...    ...         ...       ...\n",
      "886       2  27.0      0      0           0         1\n",
      "887       1  19.0      0      0           1         0\n",
      "888       3   0.5      1      2           1         0\n",
      "889       1  26.0      0      0           0         1\n",
      "890       3  32.0      0      0           0         1\n",
      "\n",
      "[891 rows x 6 columns]\n",
      "[[ 3.  22.   1.   0.   1. ]\n",
      " [ 1.  38.   1.   0.   0. ]\n",
      " [ 3.  26.   0.   0.   0. ]\n",
      " ...\n",
      " [ 3.   0.5  1.   2.   0. ]\n",
      " [ 1.  26.   0.   0.   1. ]\n",
      " [ 3.  32.   0.   0.   1. ]] (891, 5)\n",
      "[0 1 1 1 0 0 0 0 1 1 1 1 0 0 0 1 0 1 0 1 0 1 1 1 0 1 0 0 1 0 0 1 1 0 0 0 1\n",
      " 0 0 1 0 0 0 1 1 0 0 1 0 0 0 0 1 1 0 1 1 0 1 0 0 1 0 0 0 1 1 0 1 0 0 0 0 0\n",
      " 1 0 0 0 1 1 0 1 1 0 1 1 0 0 1 0 0 0 0 0 0 0 0 1 1 0 0 0 0 0 0 0 1 1 0 1 0\n",
      " 0 0 0 0 0 0 0 0 0 0 0 0 1 0 1 0 1 1 0 0 0 0 1 0 0 1 0 0 0 0 1 1 0 0 0 1 0\n",
      " 0 0 0 1 0 0 0 0 1 0 0 0 0 1 0 0 0 1 1 0 0 0 0 0 1 0 0 0 0 0 0 0 0 0 0 1 1\n",
      " 0 1 1 0 0 1 0 1 1 1 1 0 0 1 0 0 0 0 0 1 0 0 1 1 1 0 1 0 0 0 1 1 0 1 0 1 0\n",
      " 0 0 1 0 1 0 0 0 1 0 0 1 0 0 0 1 0 0 0 1 0 0 0 0 0 1 1 0 0 0 0 0 0 1 1 1 1\n",
      " 1 0 1 0 0 0 0 0 1 1 1 0 1 1 0 1 1 0 0 0 1 0 0 0 1 0 0 1 0 1 1 1 1 0 0 0 0\n",
      " 0 0 1 1 1 1 0 1 0 1 1 1 0 1 1 1 0 0 0 1 1 0 1 1 0 0 1 1 0 1 0 1 1 1 1 0 0\n",
      " 0 1 0 0 1 1 0 1 1 0 0 0 1 1 1 1 0 0 0 0 0 0 0 1 0 1 1 0 0 0 0 0 0 1 1 1 1\n",
      " 1 0 0 0 0 1 1 0 0 0 1 1 0 1 0 0 0 1 0 1 1 1 0 1 1 0 0 0 0 1 1 0 0 0 0 0 0\n",
      " 1 0 0 0 0 1 0 1 0 1 1 0 0 0 0 0 0 0 0 1 1 0 1 1 1 1 0 0 1 0 1 0 0 1 0 0 1\n",
      " 1 1 1 1 1 1 0 0 0 1 0 1 0 1 1 0 1 0 0 0 0 0 0 0 0 1 0 0 1 1 0 0 0 0 0 1 0\n",
      " 0 0 1 1 0 1 0 0 1 0 0 0 0 0 0 1 0 0 0 0 0 0 0 1 0 1 1 0 1 1 0 1 1 0 0 1 0\n",
      " 1 0 1 0 0 1 0 0 1 0 0 0 1 0 0 1 0 1 0 1 0 1 1 0 0 1 0 0 1 1 0 1 1 0 0 1 1\n",
      " 0 1 0 1 1 0 0 0 0 0 0 0 0 0 1 1 1 1 1 0 0 1 1 0 1 1 1 0 0 0 1 0 1 0 0 0 1\n",
      " 0 0 0 0 1 0 0 1 1 0 0 0 1 0 0 1 1 1 0 0 1 0 0 1 0 0 1 0 0 1 1 0 0 0 0 1 0\n",
      " 0 1 0 1 0 0 1 0 0 0 0 0 1 0 1 1 1 0 1 0 1 0 1 0 1 0 0 0 0 0 0 1 0 0 0 1 0\n",
      " 0 0 0 1 1 0 0 1 0 0 0 1 0 1 0 1 0 0 0 0 0 0 0 1 1 1 1 0 0 0 0 1 0 0 1 1 0\n",
      " 0 0 0 1 1 1 1 1 0 1 0 0 0 1 1 0 0 1 0 0 0 1 0 1 1 0 0 1 0 0 0 0 0 0 1 0 0\n",
      " 1 0 1 0 1 0 0 1 0 0 1 1 0 0 1 1 0 0 0 1 0 0 1 1 0 1 0 0 0 0 0 0 0 0 1 0 0\n",
      " 1 0 1 1 1 0 0 0 0 1 0 1 0 0 0 0 0 0 0 1 1 0 0 0 1 1 1 1 0 0 0 0 1 0 0 0 0\n",
      " 0 0 0 0 0 0 1 1 0 1 0 0 0 1 1 1 1 1 0 0 0 1 0 0 1 1 0 0 1 0 0 0 0 0 0 1 0\n",
      " 0 0 1 0 1 1 1 1 0 0 0 1 0 0 1 1 0 0 1 0 1 0 0 1 1 0 0 0 1 1 0 0 0 0 0 0 1\n",
      " 0 1 0] (891,)\n"
     ]
    }
   ],
   "source": [
    "data = pd.read_csv('train_Titanic.csv')\n",
    "data.head()\n",
    "y_train = data[\"Survived\"]\n",
    "features = [\"Pclass\",\"Age\", \"SibSp\", \"Parch\",\"Sex\"]\n",
    "x_train = pd.get_dummies(data[features])\n",
    "print(y_train.shape)\n",
    "print(x_train.shape)\n",
    "print(y_train, '\\n', x_train)\n",
    "y_train = y_train.values\n",
    "x_train = x_train.values\n",
    "x_train = np.delete(x_train, 4, axis=1)\n",
    "print(x_train, x_train.shape)\n",
    "print(y_train, y_train.shape)"
   ]
  },
  {
   "cell_type": "code",
   "execution_count": 157,
   "id": "50547f71",
   "metadata": {},
   "outputs": [],
   "source": [
    "def sigmoid(z):\n",
    "    g = 1 / (1+np.exp(-z))\n",
    "    return g"
   ]
  },
  {
   "cell_type": "code",
   "execution_count": 158,
   "id": "c34ac64c",
   "metadata": {},
   "outputs": [],
   "source": [
    "def compute_cost(x,y,w,b):\n",
    "    m, n = x.shape[:]\n",
    "    total_cost = 0.\n",
    "    z = np.dot(x, w) + b\n",
    "    f_wb = sigmoid(z)\n",
    "    total_cost = np.sum(np.dot(-y, np.log(f_wb))) - np.sum(np.dot((1 - y),  np.log(1-f_wb) ))\n",
    "   # for i in range(m):\n",
    "       # z_i = np.sum(np.dot(x[i], w) + b)\n",
    "      #  f_wb_i = sigmoid(z_i)\n",
    "       # total_cost += -y[i] * np.log(f_wb_i) - ((1-y[i]) * np.log(1 - f_wb_i))\n",
    "    return total_cost / (2*m)"
   ]
  },
  {
   "cell_type": "code",
   "execution_count": 159,
   "id": "6932aa01",
   "metadata": {},
   "outputs": [
    {
     "name": "stdout",
     "output_type": "stream",
     "text": [
      "0.3465735902799726\n"
     ]
    }
   ],
   "source": [
    "w = np.zeros_like(x_train[0])\n",
    "b = 0.\n",
    "\n",
    "cost = compute_cost(x_train, y_train, w, b)\n",
    "print(cost)"
   ]
  },
  {
   "cell_type": "code",
   "execution_count": 160,
   "id": "7eb6a4a3",
   "metadata": {},
   "outputs": [],
   "source": [
    "def compute_gradient(x,y,w,b):\n",
    "    m, n = x.shape[:]\n",
    "    dj_db = 0.\n",
    "    dj_dw = np.zeros((n,))\n",
    "    z = np.dot(x, w) + b\n",
    "    f_wb = sigmoid(z)\n",
    "    dj_db = np.sum(f_wb - y)\n",
    "    dj_dw = np.dot(x.T,(f_wb - y))\n",
    "    #for i in range(m):\n",
    "    #    z_i = np.dot(x[i], w) + b\n",
    "    #    f_wb_i = sigmoid(z_i)\n",
    "    #    dj_db += f_wb_i - y[i]\n",
    "    #    dj_dw += np.dot(x[i], (f_wb_i - y[i]))\n",
    "    dj_db /= m\n",
    "    dj_dw /= m\n",
    "    return dj_db, dj_dw"
   ]
  },
  {
   "cell_type": "code",
   "execution_count": 161,
   "id": "47fa1ee7",
   "metadata": {},
   "outputs": [
    {
     "name": "stdout",
     "output_type": "stream",
     "text": [
      "0.11616161616161616 \n",
      " [0.40572391 2.69491021 0.07968575 0.01234568 0.20145903]\n"
     ]
    }
   ],
   "source": [
    "dj_db, dj_dw = compute_gradient(x_train, y_train, w, b)\n",
    "print(dj_db,'\\n', dj_dw)\n",
    "x=0."
   ]
  },
  {
   "cell_type": "code",
   "execution_count": 162,
   "id": "eb450275",
   "metadata": {},
   "outputs": [],
   "source": [
    "def gradient_descent(x, y, w_in, b_in, alpha, num_iters):\n",
    "    J_history = []\n",
    "    w = copy.deepcopy(w_in)\n",
    "    b = b_in\n",
    "    m, n = x.shape[:]\n",
    "    for i in range(num_iters):\n",
    "        dj_db, dj_dw = compute_gradient(x, y, w, b)\n",
    "        w = w - alpha * dj_dw\n",
    "        b = b - alpha * dj_db\n",
    "        if i<100000:\n",
    "            J_history.append( compute_cost(x,y,w,b) )\n",
    "        # Print cost every at intervals 10 times or as many iterations if < 10\n",
    "        if i% math.ceil(num_iters / 10) == 0 or i == num_iters-1:\n",
    "            print(f\"Iteration {i:4d}: Cost {J_history[-1]}   \")\n",
    "    return w, b, J_history"
   ]
  },
  {
   "cell_type": "code",
   "execution_count": 163,
   "id": "3f69a646",
   "metadata": {},
   "outputs": [
    {
     "name": "stdout",
     "output_type": "stream",
     "text": [
      "Iteration    0: Cost 0.3662591444513652   \n",
      "Iteration 20000: Cost 0.22702089974671885   \n",
      "Iteration 40000: Cost 0.22660608787415856   \n",
      "Iteration 60000: Cost 0.2265949466926677   \n",
      "Iteration 80000: Cost 0.2265946178147785   \n",
      "Iteration 100000: Cost 0.22659460795291037   \n",
      "Iteration 120000: Cost 0.22659460795291037   \n",
      "Iteration 140000: Cost 0.22659460795291037   \n",
      "Iteration 160000: Cost 0.22659460795291037   \n",
      "Iteration 180000: Cost 0.22659460795291037   \n",
      "Iteration 199999: Cost 0.22659460795291037   \n",
      "[-1.08746966 -0.01823324 -0.27662645 -0.02341383 -2.75080236] 4.231233006858214\n"
     ]
    }
   ],
   "source": [
    "alpha = 0.014\n",
    "num_iters = 200000\n",
    "w_out, b_out, J_hist = gradient_descent(x_train, y_train, w, b, alpha, num_iters)\n",
    "print(w_out, b_out)"
   ]
  },
  {
   "cell_type": "code",
   "execution_count": 164,
   "id": "7c47bb49",
   "metadata": {},
   "outputs": [
    {
     "data": {
      "image/png": "[encoded data removed]",
      "text/plain": [
       "<Figure size 640x480 with 1 Axes>"
      ]
     },
     "metadata": {},
     "output_type": "display_data"
    }
   ],
   "source": [
    "plt.plot(J_hist)\n",
    "plt.show()"
   ]
  },
  {
   "cell_type": "code",
   "execution_count": 128,
   "id": "49bc45f4",
   "metadata": {},
   "outputs": [],
   "source": [
    "# Now I have to make predicitions based on my parameters with the test data i have from the titanic kaggle dataset, \n",
    "#and then submit it in kaggle and, I also can see the accuracy of my model by comparing if p == y . \n"
   ]
  },
  {
   "cell_type": "code",
   "execution_count": 165,
   "id": "be007da1",
   "metadata": {},
   "outputs": [
    {
     "name": "stdout",
     "output_type": "stream",
     "text": [
      "     Pclass   Age  SibSp  Parch  Sex_female  Sex_male\n",
      "0         3  34.5      0      0           0         1\n",
      "1         3  47.0      1      0           1         0\n",
      "2         2  62.0      0      0           0         1\n",
      "3         3  27.0      0      0           0         1\n",
      "4         3  22.0      1      1           1         0\n",
      "..      ...   ...    ...    ...         ...       ...\n",
      "413       3   0.5      0      0           0         1\n",
      "414       1  39.0      0      0           1         0\n",
      "415       3  38.5      0      0           0         1\n",
      "416       3   0.5      0      0           0         1\n",
      "417       3   0.5      1      1           0         1\n",
      "\n",
      "[418 rows x 6 columns]\n",
      "[[ 3.  34.5  0.   0.   1. ]\n",
      " [ 3.  47.   1.   0.   0. ]\n",
      " [ 2.  62.   0.   0.   1. ]\n",
      " ...\n",
      " [ 3.  38.5  0.   0.   1. ]\n",
      " [ 3.   0.5  0.   0.   1. ]\n",
      " [ 3.   0.5  1.   1.   1. ]] (418, 5)\n"
     ]
    }
   ],
   "source": [
    "test_data = pd.read_csv('test_Titanic.csv')\n",
    "test_data.head()\n",
    "x_test = pd.get_dummies(test_data[features])\n",
    "print(x_test)\n",
    "x_test = x_test.values\n",
    "x_test = np.delete(x_test, 4, axis=1)\n",
    "print(x_test, x_test.shape)"
   ]
  },
  {
   "cell_type": "code",
   "execution_count": 166,
   "id": "a56dedbd",
   "metadata": {},
   "outputs": [],
   "source": [
    "def predict(x,w,b):\n",
    "    m,n = x.shape[:]\n",
    "    p = np.zeros(m)\n",
    "    z = np.dot(x,w) + b\n",
    "    f_wb = sigmoid(z)\n",
    "    p = (f_wb >= 0.5).astype(int)\n",
    "    #for i in range(m):\n",
    "        #p[i] = f_wb[i] >= 0.5\n",
    "    return p   "
   ]
  },
  {
   "cell_type": "code",
   "execution_count": 167,
   "id": "869824d4",
   "metadata": {
    "scrolled": false
   },
   "outputs": [
    {
     "name": "stdout",
     "output_type": "stream",
     "text": [
      "[[0]\n",
      " [0]\n",
      " [0]\n",
      " [0]\n",
      " [1]\n",
      " [0]\n",
      " [1]\n",
      " [0]\n",
      " [1]\n",
      " [0]\n",
      " [0]\n",
      " [0]\n",
      " [1]\n",
      " [0]\n",
      " [1]\n",
      " [1]\n",
      " [0]\n",
      " [0]\n",
      " [1]\n",
      " [1]]\n",
      "(418, 1)\n"
     ]
    }
   ],
   "source": [
    "predictions = predict(x_test, w_out, b_out)\n",
    "predictions = predictions.reshape(-1,1)\n",
    "print(predictions[:20])\n",
    "print(predictions.shape)"
   ]
  },
  {
   "cell_type": "code",
   "execution_count": 168,
   "id": "f224f9dc",
   "metadata": {},
   "outputs": [
    {
     "name": "stdout",
     "output_type": "stream",
     "text": [
      "Train Accuracy: 79.124579\n"
     ]
    }
   ],
   "source": [
    "#Comparing the predictions of the training set with the actual values gives you the accuracy.\n",
    "p = predict(x_train, w_out, b_out)\n",
    "print('Train Accuracy: %f'%(np.mean(p == y_train) * 100))\n",
    "#I think the accuracy could be better, but at the moment I don't know how to improve it..."
   ]
  },
  {
   "cell_type": "code",
   "execution_count": 169,
   "id": "7f82c7f0",
   "metadata": {},
   "outputs": [
    {
     "data": {
      "image/png": "[encoded data removed]",
      "text/plain": [
       "<Figure size 1200x300 with 5 Axes>"
      ]
     },
     "metadata": {},
     "output_type": "display_data"
    }
   ],
   "source": [
    "#Plotting each feature relative with y.\n",
    "fig,ax=plt.subplots(1, 5, figsize=(12, 3), sharey=True)\n",
    "for i in range(len(ax)):\n",
    "    ax[i].scatter(x_train[:,i],y_train)\n",
    "    ax[i].set_xlabel(features[i])\n",
    "ax[0].set_ylabel(\"Survived = 1\")\n",
    "plt.show()"
   ]
  },
  {
   "cell_type": "code",
   "execution_count": null,
   "id": "0e766d20",
   "metadata": {},
   "outputs": [],
   "source": [
    "\n"
   ]
  },
  {
   "cell_type": "code",
   "execution_count": null,
   "id": "707d4899",
   "metadata": {},
   "outputs": [],
   "source": []
  }
 ],
 "metadata": {
  "kernelspec": {
   "display_name": "Python 3 (ipykernel)",
   "language": "python",
   "name": "python3"
  },
  "language_info": {
   "codemirror_mode": {
    "name": "ipython",
    "version": 3
   },
   "file_extension": ".py",
   "mimetype": "text/x-python",
   "name": "python",
   "nbconvert_exporter": "python",
   "pygments_lexer": "ipython3",
   "version": "3.9.13"
  }
 },
 "nbformat": 4,
 "nbformat_minor": 5
}
